{
  "nbformat": 4,
  "nbformat_minor": 0,
  "metadata": {
    "colab": {
      "private_outputs": true,
      "provenance": []
    },
    "kernelspec": {
      "name": "python3",
      "display_name": "Python 3"
    },
    "language_info": {
      "name": "python"
    }
  },
  "cells": [
    {
      "cell_type": "code",
      "execution_count": null,
      "metadata": {
        "id": "7er0Pp4OxaiY"
      },
      "outputs": [],
      "source": [
        "import numpy as np\n",
        "import pandas as pd\n",
        "import matplotlib.pyplot as plt\n",
        "import seaborn as sns\n",
        "import warnings\n",
        "warnings.filterwarnings('ignore')"
      ]
    },
    {
      "cell_type": "code",
      "execution_count": null,
      "metadata": {
        "id": "3G0hI7ogxsC1"
      },
      "outputs": [],
      "source": [
        "df=pd.read_csv(\"/content/chronickidneydisease.csv\")"
      ]
    },
    {
      "cell_type": "markdown",
      "metadata": {
        "id": "L-FUEw3Fxxa_"
      },
      "source": [
        "Exploring Dataset"
      ]
    },
    {
      "cell_type": "code",
      "execution_count": null,
      "metadata": {
        "id": "bRA4o_0BxvCf"
      },
      "outputs": [],
      "source": [
        "print(\"The dataset shape is {}\".format(df.shape))"
      ]
    },
    {
      "cell_type": "markdown",
      "metadata": {
        "id": "NQ4IYqCAx3gL"
      },
      "source": [
        "The dataset shape is (400, 26)"
      ]
    },
    {
      "cell_type": "code",
      "execution_count": null,
      "metadata": {
        "id": "jbUktRMDx6Jw"
      },
      "outputs": [],
      "source": [
        "df.head()"
      ]
    },
    {
      "cell_type": "code",
      "execution_count": null,
      "metadata": {
        "id": "do0GoOcpyAEH"
      },
      "outputs": [],
      "source": [
        "df.columns"
      ]
    },
    {
      "cell_type": "code",
      "execution_count": null,
      "metadata": {
        "id": "P5_Z0UQNyD06"
      },
      "outputs": [],
      "source": [
        "df.dtypes"
      ]
    },
    {
      "cell_type": "code",
      "execution_count": null,
      "metadata": {
        "id": "tm8LAxoIyGes"
      },
      "outputs": [],
      "source": [
        "df.info()"
      ]
    },
    {
      "cell_type": "code",
      "execution_count": null,
      "metadata": {
        "id": "cbDcHiwWyJB8"
      },
      "outputs": [],
      "source": [
        "df.describe().T"
      ]
    },
    {
      "cell_type": "code",
      "execution_count": null,
      "metadata": {
        "id": "9Zv4KNYNyMJL"
      },
      "outputs": [],
      "source": [
        "for col in df:\n",
        "    unique=df[col].value_counts()\n",
        "    print(unique,\"\\n========================= \\n\")"
      ]
    },
    {
      "cell_type": "markdown",
      "metadata": {
        "id": "in47n-yDybT6"
      },
      "source": [
        "Remove unwanted columns"
      ]
    },
    {
      "cell_type": "code",
      "execution_count": null,
      "metadata": {
        "id": "2XkR839oyPIC"
      },
      "outputs": [],
      "source": [
        "df.drop('id',axis=1,inplace=True)"
      ]
    }
  ]
}